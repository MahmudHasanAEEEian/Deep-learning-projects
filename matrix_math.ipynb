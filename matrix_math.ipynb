{
  "nbformat": 4,
  "nbformat_minor": 0,
  "metadata": {
    "colab": {
      "name": "matrix_math.ipynb",
      "provenance": []
    },
    "kernelspec": {
      "name": "python3",
      "display_name": "Python 3"
    },
    "language_info": {
      "name": "python"
    }
  },
  "cells": [
    {
      "cell_type": "code",
      "metadata": {
        "id": "tZbipBW8MlRx"
      },
      "source": [
        "import numpy as np"
      ],
      "execution_count": 2,
      "outputs": []
    },
    {
      "cell_type": "code",
      "metadata": {
        "colab": {
          "base_uri": "https://localhost:8080/"
        },
        "id": "l9CUgnLOMpnr",
        "outputId": "2e6c1cbe-01b0-460c-f95c-7076ebbe9a92"
      },
      "source": [
        "from google.colab import drive\n",
        "drive.mount('/content/gdrive')"
      ],
      "execution_count": 3,
      "outputs": [
        {
          "output_type": "stream",
          "name": "stdout",
          "text": [
            "Mounted at /content/gdrive\n"
          ]
        }
      ]
    },
    {
      "cell_type": "markdown",
      "metadata": {
        "id": "Xulgwxd_SE1Y"
      },
      "source": [
        "###Simple multiplicatipon"
      ]
    },
    {
      "cell_type": "code",
      "metadata": {
        "id": "Yhnm1LC5MyC9"
      },
      "source": [
        "revenue = np.array([[200, 220, 250], [68, 79, 105], [110, 140, 180], [80, 85, 90]])"
      ],
      "execution_count": 4,
      "outputs": []
    },
    {
      "cell_type": "code",
      "metadata": {
        "colab": {
          "base_uri": "https://localhost:8080/"
        },
        "id": "fSLPuochNqEu",
        "outputId": "129dc00a-ca0e-48ef-d6cc-78130f49c686"
      },
      "source": [
        "#  In the form of Indian rupees: \n",
        "revenue*75"
      ],
      "execution_count": 5,
      "outputs": [
        {
          "output_type": "execute_result",
          "data": {
            "text/plain": [
              "array([[15000, 16500, 18750],\n",
              "       [ 5100,  5925,  7875],\n",
              "       [ 8250, 10500, 13500],\n",
              "       [ 6000,  6375,  6750]])"
            ]
          },
          "metadata": {},
          "execution_count": 5
        }
      ]
    },
    {
      "cell_type": "markdown",
      "metadata": {
        "id": "cq_uSwohR6k5"
      },
      "source": [
        "###Total sales in every months"
      ]
    },
    {
      "cell_type": "code",
      "metadata": {
        "id": "qRH2qeAoNuOR"
      },
      "source": [
        "Units_sold = np.array([[50, 60, 25], [10, 13, 5], [40, 70, 52]])"
      ],
      "execution_count": 6,
      "outputs": []
    },
    {
      "cell_type": "code",
      "metadata": {
        "colab": {
          "base_uri": "https://localhost:8080/"
        },
        "id": "6pNCw1ZMSbST",
        "outputId": "816b83ed-f691-47a2-cd4b-b487b4cbe716"
      },
      "source": [
        "Units_sold"
      ],
      "execution_count": 7,
      "outputs": [
        {
          "output_type": "execute_result",
          "data": {
            "text/plain": [
              "array([[50, 60, 25],\n",
              "       [10, 13,  5],\n",
              "       [40, 70, 52]])"
            ]
          },
          "metadata": {},
          "execution_count": 7
        }
      ]
    },
    {
      "cell_type": "code",
      "metadata": {
        "id": "Z6FI_hGPSqda"
      },
      "source": [
        "price_per_unit = np.array([20, 30, 15])"
      ],
      "execution_count": 8,
      "outputs": []
    },
    {
      "cell_type": "code",
      "metadata": {
        "colab": {
          "base_uri": "https://localhost:8080/"
        },
        "id": "kATrLE7vS1Rb",
        "outputId": "9d7d6bb4-eeef-4207-d9ed-68326b80f724"
      },
      "source": [
        "price_per_unit"
      ],
      "execution_count": 9,
      "outputs": [
        {
          "output_type": "execute_result",
          "data": {
            "text/plain": [
              "array([20, 30, 15])"
            ]
          },
          "metadata": {},
          "execution_count": 9
        }
      ]
    },
    {
      "cell_type": "code",
      "metadata": {
        "id": "trvfiiykS2bp"
      },
      "source": [
        "total_sales = np.dot(price_per_unit, Units_sold)"
      ],
      "execution_count": 10,
      "outputs": []
    },
    {
      "cell_type": "code",
      "metadata": {
        "colab": {
          "base_uri": "https://localhost:8080/"
        },
        "id": "TwsmaCkQTYEO",
        "outputId": "463c2af9-cea2-49d0-9e57-e92000b8ac0b"
      },
      "source": [
        "total_sales"
      ],
      "execution_count": 11,
      "outputs": [
        {
          "output_type": "execute_result",
          "data": {
            "text/plain": [
              "array([1900, 2640, 1430])"
            ]
          },
          "metadata": {},
          "execution_count": 11
        }
      ]
    },
    {
      "cell_type": "markdown",
      "metadata": {
        "id": "yoZNvp5bcG_O"
      },
      "source": [
        "###Absolute and mean absolute error"
      ]
    },
    {
      "cell_type": "code",
      "metadata": {
        "id": "K26WOVguTZT7"
      },
      "source": [
        "y_predicted = np.array([1,1,0,0,1,0])\n",
        "y_true = np.array([0.3,0.77,0.9,0.6, 0.5,0.99])"
      ],
      "execution_count": 14,
      "outputs": []
    },
    {
      "cell_type": "code",
      "metadata": {
        "colab": {
          "base_uri": "https://localhost:8080/"
        },
        "id": "Bsa41GwiceMC",
        "outputId": "60243ac7-6eb7-4c41-f119-1f0d1c87d8bd"
      },
      "source": [
        "np.mean(np.abs(y_predicted - y_true))"
      ],
      "execution_count": 23,
      "outputs": [
        {
          "output_type": "execute_result",
          "data": {
            "text/plain": [
              "0.6533333333333333"
            ]
          },
          "metadata": {},
          "execution_count": 23
        }
      ]
    },
    {
      "cell_type": "code",
      "metadata": {
        "colab": {
          "base_uri": "https://localhost:8080/"
        },
        "id": "txK9QUp_cfer",
        "outputId": "dae60f41-6f89-440b-9e25-8f3b14cfab5f"
      },
      "source": [
        "array1 = np.array([1,2,3])\n",
        "array2 = np.array([4,5,6])\n",
        "\n",
        "difference_array = np.array(array1 - array2)\n",
        "squared_array = np.square(difference_array)\n",
        "mse = squared_array.mean()\n",
        "\n",
        "print(mse)"
      ],
      "execution_count": 32,
      "outputs": [
        {
          "output_type": "stream",
          "name": "stdout",
          "text": [
            "9.0\n"
          ]
        }
      ]
    },
    {
      "cell_type": "code",
      "metadata": {
        "colab": {
          "base_uri": "https://localhost:8080/"
        },
        "id": "MgcRsP6afMJ4",
        "outputId": "3ff82f14-d9dc-4a35-c310-7f6eee846657"
      },
      "source": [
        "difference_array"
      ],
      "execution_count": 33,
      "outputs": [
        {
          "output_type": "execute_result",
          "data": {
            "text/plain": [
              "array([-3, -3, -3])"
            ]
          },
          "metadata": {},
          "execution_count": 33
        }
      ]
    },
    {
      "cell_type": "code",
      "metadata": {
        "id": "LbgSNaKRfOxh"
      },
      "source": [
        "A = np.array([[1,2,3,5], [3,4,5,6]])"
      ],
      "execution_count": 34,
      "outputs": []
    },
    {
      "cell_type": "code",
      "metadata": {
        "colab": {
          "base_uri": "https://localhost:8080/"
        },
        "id": "ud6a5SggfRsw",
        "outputId": "6ab226fb-7d81-4ec6-cee7-95f5d81e7271"
      },
      "source": [
        "np.square(A)"
      ],
      "execution_count": 35,
      "outputs": [
        {
          "output_type": "execute_result",
          "data": {
            "text/plain": [
              "array([[ 1,  4,  9, 25],\n",
              "       [ 9, 16, 25, 36]])"
            ]
          },
          "metadata": {},
          "execution_count": 35
        }
      ]
    },
    {
      "cell_type": "code",
      "metadata": {
        "id": "CnD_c1UEg10p"
      },
      "source": [
        ""
      ],
      "execution_count": null,
      "outputs": []
    }
  ]
}